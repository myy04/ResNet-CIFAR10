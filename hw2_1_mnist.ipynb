{
  "cells": [
    {
      "cell_type": "markdown",
      "metadata": {
        "id": "view-in-github",
        "colab_type": "text"
      },
      "source": [
        "<a href=\"https://colab.research.google.com/github/myy04/ResNet-CIFAR10/blob/main/hw2_1_mnist.ipynb\" target=\"_parent\"><img src=\"https://colab.research.google.com/assets/colab-badge.svg\" alt=\"Open In Colab\"/></a>"
      ]
    },
    {
      "cell_type": "markdown",
      "metadata": {
        "id": "QOdYjN30cxPp"
      },
      "source": [
        "# Simple CNN with PyTorch\n",
        "\n",
        "In this notebook example, we will walk through how to train a simple CNN to classify images.\n",
        "\n",
        "We will rely on the following modules, including torch and torchvision."
      ]
    },
    {
      "cell_type": "code",
      "execution_count": 22,
      "metadata": {
        "id": "gOtg_vCQcxPt"
      },
      "outputs": [],
      "source": [
        "import torch\n",
        "from torch import nn\n",
        "from torch.utils.data import DataLoader\n",
        "from torchvision import datasets\n",
        "from torchvision import transforms"
      ]
    },
    {
      "cell_type": "markdown",
      "metadata": {
        "id": "eEYLySfXcxPv"
      },
      "source": [
        "## 1. Data Loader\n",
        "\n",
        "The first step is to create a data loader.\n",
        "\n",
        "A data loader can be treated as a list (or iterator, technically). Each time it will provide a minibatch of (img, label) pairs.\n",
        "\n",
        "Please wait till the number \"2\" apppears in the left \"In[ ]\" for the data to be fully downloaded, or execute this part again to see \"Files already downloaded and verified\"."
      ]
    },
    {
      "cell_type": "code",
      "execution_count": 23,
      "metadata": {
        "id": "bL0s8d8rcxPv",
        "colab": {
          "base_uri": "https://localhost:8080/"
        },
        "outputId": "a25e8680-7f5b-4b98-b16f-fb600ae304e5"
      },
      "outputs": [
        {
          "output_type": "stream",
          "name": "stdout",
          "text": [
            "The shape of one batch is torch.Size([256, 1, 28, 28])\n"
          ]
        }
      ],
      "source": [
        "# Choose a dataset -- MNIST for example\n",
        "dataset = datasets.MNIST(root='data', train=True, download=True)\n",
        "\n",
        "# Set how the input images will be transformed\n",
        "dataset.transform = transforms.Compose([\n",
        "    transforms.ToTensor(),\n",
        "    transforms.Normalize(mean=[0.1307,], std=[0.3081,])\n",
        "])\n",
        "\n",
        "# Create a data loader\n",
        "train_loader = DataLoader(dataset, batch_size=256, shuffle=True, num_workers=1)\n",
        "\n",
        "# Show the shape of a batch.\n",
        "\n",
        "print(\"The shape of one batch is {}\".format((next(iter(train_loader)))[0].size()))"
      ]
    },
    {
      "cell_type": "markdown",
      "metadata": {
        "id": "C8FdVWMecxPw"
      },
      "source": [
        "## 2. Model\n",
        "\n",
        "The second step is to define our model. This part is left to be filled by yourself.\n",
        "\n",
        "The way to define a model can be found at [this tutorial](https://pytorch.org/tutorials/beginner/blitz/cifar10_tutorial.html#sphx-glr-beginner-blitz-cifar10-tutorial-py).\n",
        "\n",
        "The __requirements__ are as the following:\n",
        "\n",
        "* Define the first convolutional layer with channel size = 5, kernel size = 3 and stride = 2, padding = 1.\n",
        "* Define the second convolutional layer with channel size = 8, kernel size = 3 and stride = 1, padding = 1.\n",
        "* Use max pooling layer with stride = 2 between the two convolution layers.\n",
        "* Define the FC layer(s) and finally return a tensor with shape torch.Size([256, 10]). (Use torch.view to reshape tensors. You can try any number of FC layers).\n",
        "* Use ReLU activation between any two layers."
      ]
    },
    {
      "cell_type": "code",
      "execution_count": 24,
      "metadata": {
        "id": "PsYu441OcxPw"
      },
      "outputs": [],
      "source": [
        "\"\"\"\n",
        "Define the Model. The requirements are:\n",
        "    Define the first convolutional layer with channel size = 5, kernel size = 3 and stride = 2, padding = 1.\n",
        "    Define the second convolutional layer with channel size = 8, kernel size = 3 and stride = 1, padding = 1.\n",
        "    Use max pooling layer with stride = 2 between the two convolution layers.\n",
        "    Define the FC layer(s) and finally return a tensor with shape torch.Size([256, 10]). (Use torch.view to reshape tensors. You can try any number of FC layers).\n",
        "    Use ReLU activation between any two layers.\n",
        "\"\"\"\n",
        "\n",
        "import torch.nn.functional as F\n",
        "\n",
        "class SimpleCNN(nn.Module):\n",
        "    def __init__(self):\n",
        "        super(SimpleCNN, self).__init__()\n",
        "\n",
        "        self.conv1 = nn.Conv2d(in_channels=1, out_channels=5, kernel_size=3, stride=2, padding=1)\n",
        "        self.pool = nn.MaxPool2d(kernel_size=2, stride=2)\n",
        "        self.conv2 = nn.Conv2d(in_channels=5, out_channels=8, kernel_size=3, stride=1, padding=1)\n",
        "        self.fc_layers = nn.ModuleList([\n",
        "            nn.Linear(8 * 7 * 7, 256),\n",
        "            nn.Linear(256, 128),\n",
        "            nn.Linear(128, 10)\n",
        "        ])\n",
        "\n",
        "    def forward(self, x):\n",
        "        x = F.relu(self.conv1(x))\n",
        "        x = self.pool(x)\n",
        "        x = F.relu(self.conv2(x))\n",
        "        x = x.view(-1, 8 * 7 * 7)\n",
        "        for fc in self.fc_layers[:-1]:\n",
        "            x = F.relu(fc(x))\n",
        "        x = self.fc_layers[-1](x)\n",
        "        return x\n",
        "\n",
        "device = torch.device('cuda')\n",
        "model = SimpleCNN().to(device)\n",
        "\n",
        "\n",
        "#\n",
        "#\n",
        "#"
      ]
    },
    {
      "cell_type": "markdown",
      "metadata": {
        "id": "B4Fuc4lfcxPx"
      },
      "source": [
        "## 3. Loss and Optimizer\n",
        "\n",
        "The third step is to define the loss function and the optimization algorithm.\n",
        "\n",
        "* Define the __criterion__ to be Cross Entropy Loss.\n",
        "* Define the __optimizer__ to be SGD with momentum factor 0.9 and weight_decay 5e-4.\n",
        "\n",
        "Information can be found at PyTorch documents."
      ]
    },
    {
      "cell_type": "code",
      "execution_count": 25,
      "metadata": {
        "id": "7NtgrNeocxPx"
      },
      "outputs": [],
      "source": [
        "#############################################################################\n",
        "# TODO: Define the criterion to be Cross Entropy Loss.                      #\n",
        "#       Define the optimizer to be SGD with momentum factor 0.9             #\n",
        "#       and weight_decay 5e-4.\n",
        "# You may change the learning rate.                                      #\n",
        "#############################################################################\n",
        "\n",
        "\n",
        "import torch.optim as optim\n",
        "\n",
        "criterion = nn.CrossEntropyLoss()\n",
        "\n",
        "optimizer = optim.SGD(model.parameters(), lr=1e-2, momentum=0.9, weight_decay=5e-4)\n",
        "\n",
        "\n",
        "#############################################################################\n",
        "#                          END OF YOUR CODE                                 #\n",
        "#############################################################################"
      ]
    },
    {
      "cell_type": "markdown",
      "metadata": {
        "id": "ipplFhF4cxPy"
      },
      "source": [
        "## 4. Start training\n",
        "\n",
        "The next step is to start the training process."
      ]
    },
    {
      "cell_type": "code",
      "execution_count": 26,
      "metadata": {
        "scrolled": true,
        "id": "Fda5x4olcxPy"
      },
      "outputs": [],
      "source": [
        "def train(epoch):\n",
        "    model.train()  # Set the model to be in training mode\n",
        "    for batch_index, (inputs, targets) in enumerate(train_loader):\n",
        "        # Forward\n",
        "        # You may change 'device' of inputs here !!!\n",
        "        inputs = inputs.to(device)\n",
        "        targets = targets.to(device)\n",
        "\n",
        "        outputs = model(inputs)\n",
        "        loss = criterion(outputs, targets)\n",
        "        if batch_index % 10 == 0:\n",
        "            print('epoch {}  batch {}/{}  loss {:.3f}'.format(\n",
        "                epoch, batch_index, len(train_loader), loss.item()))\n",
        "\n",
        "        # Backward\n",
        "        optimizer.zero_grad()  # Set parameter gradients to zero\n",
        "        loss.backward()        # Compute (or accumulate, actually) parameter gradients\n",
        "        optimizer.step()       # Update the parameters\n"
      ]
    },
    {
      "cell_type": "code",
      "source": [
        "# Choose a dataset -- MNIST for example\n",
        "dataset = datasets.MNIST(root='data', train=False, download=True)\n",
        "\n",
        "# Set how the input images will be transformed\n",
        "dataset.transform = transforms.Compose([\n",
        "    transforms.ToTensor(),\n",
        "    transforms.Normalize(mean=[0.1307, ], std=[0.3081, ])\n",
        "])\n",
        "\n",
        "# Create a data loader\n",
        "test_dataloader = DataLoader(dataset, batch_size=64, shuffle=False, num_workers=1)\n",
        "\n",
        "def test(dataloader):\n",
        "    model.eval()\n",
        "\n",
        "    # Evaluate your model on the test dataset\n",
        "    correct = 0\n",
        "    total = 0\n",
        "    with torch.no_grad():\n",
        "        for images, labels in dataloader:\n",
        "            images, labels = images.to('cuda'), labels.to('cuda')\n",
        "            outputs = model(images)\n",
        "            _, predicted = torch.max(outputs.data, -1)\n",
        "            total += labels.size(0)\n",
        "            correct += (predicted == labels).sum().item()\n",
        "\n",
        "    # Print the accuracy and loss\n",
        "    accuracy = correct / total\n",
        "    print('Accuracy:', accuracy)"
      ],
      "metadata": {
        "id": "t48OWVDedMVX"
      },
      "execution_count": 27,
      "outputs": []
    },
    {
      "cell_type": "code",
      "source": [
        "for epoch in range(0, 6):\n",
        "    train(epoch)\n",
        "    # You may validate model here\n",
        "\n",
        "    test(test_dataloader)  # Call the test function to evaluate the model"
      ],
      "metadata": {
        "id": "KukB_LxymrpJ",
        "colab": {
          "base_uri": "https://localhost:8080/"
        },
        "outputId": "b68ea888-37c2-4657-96ee-3cc5e822132c"
      },
      "execution_count": 28,
      "outputs": [
        {
          "output_type": "stream",
          "name": "stdout",
          "text": [
            "epoch 0  batch 0/235  loss 2.306\n",
            "epoch 0  batch 10/235  loss 2.302\n",
            "epoch 0  batch 20/235  loss 2.301\n",
            "epoch 0  batch 30/235  loss 2.297\n",
            "epoch 0  batch 40/235  loss 2.294\n",
            "epoch 0  batch 50/235  loss 2.290\n",
            "epoch 0  batch 60/235  loss 2.282\n",
            "epoch 0  batch 70/235  loss 2.275\n",
            "epoch 0  batch 80/235  loss 2.261\n",
            "epoch 0  batch 90/235  loss 2.229\n",
            "epoch 0  batch 100/235  loss 2.184\n",
            "epoch 0  batch 110/235  loss 2.055\n",
            "epoch 0  batch 120/235  loss 1.706\n",
            "epoch 0  batch 130/235  loss 1.071\n",
            "epoch 0  batch 140/235  loss 0.777\n",
            "epoch 0  batch 150/235  loss 0.645\n",
            "epoch 0  batch 160/235  loss 0.593\n",
            "epoch 0  batch 170/235  loss 0.537\n",
            "epoch 0  batch 180/235  loss 0.545\n",
            "epoch 0  batch 190/235  loss 0.490\n",
            "epoch 0  batch 200/235  loss 0.468\n",
            "epoch 0  batch 210/235  loss 0.417\n",
            "epoch 0  batch 220/235  loss 0.575\n",
            "epoch 0  batch 230/235  loss 0.423\n",
            "Accuracy: 0.8827\n",
            "epoch 1  batch 0/235  loss 0.321\n",
            "epoch 1  batch 10/235  loss 0.270\n",
            "epoch 1  batch 20/235  loss 0.428\n",
            "epoch 1  batch 30/235  loss 0.309\n",
            "epoch 1  batch 40/235  loss 0.336\n",
            "epoch 1  batch 50/235  loss 0.351\n",
            "epoch 1  batch 60/235  loss 0.257\n",
            "epoch 1  batch 70/235  loss 0.327\n",
            "epoch 1  batch 80/235  loss 0.294\n",
            "epoch 1  batch 90/235  loss 0.306\n",
            "epoch 1  batch 100/235  loss 0.288\n",
            "epoch 1  batch 110/235  loss 0.267\n",
            "epoch 1  batch 120/235  loss 0.306\n",
            "epoch 1  batch 130/235  loss 0.293\n",
            "epoch 1  batch 140/235  loss 0.226\n",
            "epoch 1  batch 150/235  loss 0.206\n",
            "epoch 1  batch 160/235  loss 0.272\n",
            "epoch 1  batch 170/235  loss 0.258\n",
            "epoch 1  batch 180/235  loss 0.246\n",
            "epoch 1  batch 190/235  loss 0.189\n",
            "epoch 1  batch 200/235  loss 0.198\n",
            "epoch 1  batch 210/235  loss 0.213\n",
            "epoch 1  batch 220/235  loss 0.166\n",
            "epoch 1  batch 230/235  loss 0.283\n",
            "Accuracy: 0.938\n",
            "epoch 2  batch 0/235  loss 0.227\n",
            "epoch 2  batch 10/235  loss 0.195\n",
            "epoch 2  batch 20/235  loss 0.188\n",
            "epoch 2  batch 30/235  loss 0.135\n",
            "epoch 2  batch 40/235  loss 0.166\n",
            "epoch 2  batch 50/235  loss 0.214\n",
            "epoch 2  batch 60/235  loss 0.159\n",
            "epoch 2  batch 70/235  loss 0.177\n",
            "epoch 2  batch 80/235  loss 0.232\n",
            "epoch 2  batch 90/235  loss 0.270\n",
            "epoch 2  batch 100/235  loss 0.241\n",
            "epoch 2  batch 110/235  loss 0.219\n",
            "epoch 2  batch 120/235  loss 0.313\n",
            "epoch 2  batch 130/235  loss 0.188\n",
            "epoch 2  batch 140/235  loss 0.175\n",
            "epoch 2  batch 150/235  loss 0.203\n",
            "epoch 2  batch 160/235  loss 0.140\n",
            "epoch 2  batch 170/235  loss 0.178\n",
            "epoch 2  batch 180/235  loss 0.142\n",
            "epoch 2  batch 190/235  loss 0.195\n",
            "epoch 2  batch 200/235  loss 0.190\n",
            "epoch 2  batch 210/235  loss 0.144\n",
            "epoch 2  batch 220/235  loss 0.121\n",
            "epoch 2  batch 230/235  loss 0.125\n",
            "Accuracy: 0.9504\n",
            "epoch 3  batch 0/235  loss 0.103\n",
            "epoch 3  batch 10/235  loss 0.214\n",
            "epoch 3  batch 20/235  loss 0.118\n",
            "epoch 3  batch 30/235  loss 0.130\n",
            "epoch 3  batch 40/235  loss 0.097\n",
            "epoch 3  batch 50/235  loss 0.195\n",
            "epoch 3  batch 60/235  loss 0.087\n",
            "epoch 3  batch 70/235  loss 0.158\n",
            "epoch 3  batch 80/235  loss 0.145\n",
            "epoch 3  batch 90/235  loss 0.136\n",
            "epoch 3  batch 100/235  loss 0.106\n",
            "epoch 3  batch 110/235  loss 0.088\n",
            "epoch 3  batch 120/235  loss 0.142\n",
            "epoch 3  batch 130/235  loss 0.121\n",
            "epoch 3  batch 140/235  loss 0.149\n",
            "epoch 3  batch 150/235  loss 0.079\n",
            "epoch 3  batch 160/235  loss 0.075\n",
            "epoch 3  batch 170/235  loss 0.171\n",
            "epoch 3  batch 180/235  loss 0.170\n",
            "epoch 3  batch 190/235  loss 0.148\n",
            "epoch 3  batch 200/235  loss 0.114\n",
            "epoch 3  batch 210/235  loss 0.122\n",
            "epoch 3  batch 220/235  loss 0.117\n",
            "epoch 3  batch 230/235  loss 0.157\n",
            "Accuracy: 0.961\n",
            "epoch 4  batch 0/235  loss 0.125\n",
            "epoch 4  batch 10/235  loss 0.127\n",
            "epoch 4  batch 20/235  loss 0.083\n",
            "epoch 4  batch 30/235  loss 0.088\n",
            "epoch 4  batch 40/235  loss 0.118\n",
            "epoch 4  batch 50/235  loss 0.087\n",
            "epoch 4  batch 60/235  loss 0.155\n",
            "epoch 4  batch 70/235  loss 0.129\n",
            "epoch 4  batch 80/235  loss 0.115\n",
            "epoch 4  batch 90/235  loss 0.114\n",
            "epoch 4  batch 100/235  loss 0.103\n",
            "epoch 4  batch 110/235  loss 0.162\n",
            "epoch 4  batch 120/235  loss 0.102\n",
            "epoch 4  batch 130/235  loss 0.108\n",
            "epoch 4  batch 140/235  loss 0.155\n",
            "epoch 4  batch 150/235  loss 0.073\n",
            "epoch 4  batch 160/235  loss 0.177\n",
            "epoch 4  batch 170/235  loss 0.166\n",
            "epoch 4  batch 180/235  loss 0.135\n",
            "epoch 4  batch 190/235  loss 0.148\n",
            "epoch 4  batch 200/235  loss 0.058\n",
            "epoch 4  batch 210/235  loss 0.171\n",
            "epoch 4  batch 220/235  loss 0.148\n",
            "epoch 4  batch 230/235  loss 0.157\n",
            "Accuracy: 0.9646\n",
            "epoch 5  batch 0/235  loss 0.144\n",
            "epoch 5  batch 10/235  loss 0.103\n",
            "epoch 5  batch 20/235  loss 0.090\n",
            "epoch 5  batch 30/235  loss 0.064\n",
            "epoch 5  batch 40/235  loss 0.110\n",
            "epoch 5  batch 50/235  loss 0.098\n",
            "epoch 5  batch 60/235  loss 0.093\n",
            "epoch 5  batch 70/235  loss 0.125\n",
            "epoch 5  batch 80/235  loss 0.056\n",
            "epoch 5  batch 90/235  loss 0.079\n",
            "epoch 5  batch 100/235  loss 0.122\n",
            "epoch 5  batch 110/235  loss 0.060\n",
            "epoch 5  batch 120/235  loss 0.078\n",
            "epoch 5  batch 130/235  loss 0.147\n",
            "epoch 5  batch 140/235  loss 0.100\n",
            "epoch 5  batch 150/235  loss 0.141\n",
            "epoch 5  batch 160/235  loss 0.123\n",
            "epoch 5  batch 170/235  loss 0.135\n",
            "epoch 5  batch 180/235  loss 0.112\n",
            "epoch 5  batch 190/235  loss 0.113\n",
            "epoch 5  batch 200/235  loss 0.059\n",
            "epoch 5  batch 210/235  loss 0.088\n",
            "epoch 5  batch 220/235  loss 0.112\n",
            "epoch 5  batch 230/235  loss 0.088\n",
            "Accuracy: 0.9674\n"
          ]
        }
      ]
    },
    {
      "cell_type": "markdown",
      "metadata": {
        "id": "NuiWB3MacxPz"
      },
      "source": [
        "## 5. What's next?\n",
        "\n",
        "We have sketched a simple framework for training CNNs. There are a few more functions yet to be completed.\n",
        "\n",
        "  - Use gpu and cudnn\n",
        "  - Do validation after each epoch\n",
        "  - Adjust the learning rate\n",
        "\n",
        "Please read the ppt carefully in class."
      ]
    }
  ],
  "metadata": {
    "kernelspec": {
      "display_name": "Python 3",
      "name": "python3"
    },
    "language_info": {
      "codemirror_mode": {
        "name": "ipython",
        "version": 3
      },
      "file_extension": ".py",
      "mimetype": "text/x-python",
      "name": "python",
      "nbconvert_exporter": "python",
      "pygments_lexer": "ipython3",
      "version": "3.6.5"
    },
    "colab": {
      "provenance": [],
      "gpuType": "T4",
      "include_colab_link": true
    },
    "accelerator": "GPU"
  },
  "nbformat": 4,
  "nbformat_minor": 0
}